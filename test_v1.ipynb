{
 "cells": [
  {
   "cell_type": "code",
   "execution_count": 1,
   "metadata": {},
   "outputs": [
    {
     "name": "stdout",
     "output_type": "stream",
     "text": [
      "130091375330700\n"
     ]
    }
   ],
   "source": [
    "import torch\n",
    "print(torch.initial_seed())"
   ]
  },
  {
   "cell_type": "code",
   "execution_count": null,
   "metadata": {},
   "outputs": [],
   "source": [
    "import numpy as np\n",
    "from monai.transforms import Compose, Resized, RandAffine\n",
    "\n",
    "# 生成一个简单的关键点坐标示例\n",
    "label = np.array([[1, 2, 3], [3, 4, 3], [5, 5, 3]])\n",
    "image =  np.random.random((6, 6, 6))\n",
    "# 定义数据转换操作\n",
    "transform = Compose([\n",
    "    # 假设原始图像是 (100, 100)，将其缩放到 (200, 200)\n",
    "    Resized(\n",
    "        keys=['image', 'label'], spatial_size=(4, 4, 4),\n",
    "        mode=['area', 'nearest']\n",
    "    ),\n",
    "    # 随机仿射变换\n",
    "    # RandAffine(prob=1, rotate_range=(0, 30), translate_range=(10, 10))\n",
    "])\n",
    "\n",
    "# 应用数据转换\n",
    "\n",
    "transformed_keypoints = transform({'image': image, 'label': label})\n",
    "\n",
    "print(\"原始关键点坐标：\")\n",
    "print(label)\n",
    "print(image)\n",
    "print(\"转换后的关键点坐标：\")\n",
    "print(transformed_keypoints['image'])\n",
    "print(transformed_keypoints['label'])"
   ]
  }
 ],
 "metadata": {
  "kernelspec": {
   "display_name": "det",
   "language": "python",
   "name": "python3"
  },
  "language_info": {
   "codemirror_mode": {
    "name": "ipython",
    "version": 3
   },
   "file_extension": ".py",
   "mimetype": "text/x-python",
   "name": "python",
   "nbconvert_exporter": "python",
   "pygments_lexer": "ipython3",
   "version": "3.9.0"
  },
  "orig_nbformat": 4
 },
 "nbformat": 4,
 "nbformat_minor": 2
}
